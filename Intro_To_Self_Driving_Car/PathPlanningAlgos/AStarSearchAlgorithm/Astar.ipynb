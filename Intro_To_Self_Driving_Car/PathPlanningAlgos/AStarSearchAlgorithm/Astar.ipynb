{
 "cells": [
  {
   "attachments": {},
   "cell_type": "markdown",
   "metadata": {},
   "source": [
    "### Find shortest path through a 2-d maze using A* Search"
   ]
  },
  {
   "attachments": {},
   "cell_type": "markdown",
   "metadata": {},
   "source": [
    "#### Maze Rules\n",
    "* '0' = Valid cells for movement\n",
    "* '1' =  Obstacle or invalid cells for movement\n",
    "* Not allowed to go beyond the boundary of the matrix (assume wall around the area)\n",
    "* Only up, down , left or right movement allowed\n",
    "* Movement speed = one cell at a time"
   ]
  },
  {
   "cell_type": "code",
   "execution_count": 19,
   "metadata": {},
   "outputs": [],
   "source": [
    "# Define own maze\n",
    "maze = [[0, 0, 0, 0, 1, 0, 0, 0, 0, 0],\n",
    "        [0, 0, 0, 0, 1, 0, 0, 0, 0, 0],\n",
    "        [0, 0, 0, 0, 1, 0, 0, 0, 0, 0],\n",
    "        [0, 0, 0, 0, 1, 0, 0, 0, 0, 0],\n",
    "        [0, 0, 0, 0, 1, 0, 0, 0, 0, 0],\n",
    "        [0, 0, 0, 0, 1, 0, 0, 0, 0, 0],\n",
    "        [0, 0, 0, 0, 1, 0, 0, 0, 0, 0],\n",
    "        [0, 0, 0, 0, 1, 0, 0, 0, 0, 0],\n",
    "        [0, 0, 0, 0, 0, 0, 0, 0, 0, 0],\n",
    "        [0, 0, 0, 0, 1, 0, 0, 0, 0, 0]]"
   ]
  },
  {
   "cell_type": "code",
   "execution_count": 20,
   "metadata": {},
   "outputs": [],
   "source": [
    "class Node:\n",
    "    def __init__(self, pos=None):\n",
    "        self.parent = None  # Parent node for this node\n",
    "        self.pos = pos  # Position of the node in grid\n",
    "        self.g = 0  # Distance (cost) from source to this node\n",
    "        self.h = 0  # Heuristic (Estimated cost) from this node to end node\n",
    "        self.f = 0  # Total cost function for the node\n",
    "\n",
    "    def setHeuristic(self, otherNode):\n",
    "        \"\"\"Generates the heuristic -> Square of euclidean distance between two nodes\"\"\"\n",
    "        pos1 = self.pos\n",
    "        pos2 = otherNode.pos\n",
    "        self.h = (pos2[0] - pos1[0])**2 + (pos2[1] - pos1[1])**2"
   ]
  },
  {
   "cell_type": "code",
   "execution_count": 21,
   "metadata": {},
   "outputs": [],
   "source": [
    "def find_neighbors(node, nRows, nCols):\n",
    "    \"\"\"Return all the valid neighbors of a given node\"\"\"\n",
    "\n",
    "    neighbors = []\n",
    "    rowMov = [-1, 1, 0, 0]  # Allowed row movements\n",
    "    colMov = [0, 0, -1, 1]  # Allowed column movements\n",
    "\n",
    "    # Iterate through the movements to find neighbors\n",
    "    for i, j in zip(rowMov, colMov):\n",
    "        rr = i + node.pos[0]\n",
    "        cc = j + node.pos[1]\n",
    "        if rr > nRows or cc > nCols or rr < 0 or cc < 0:\n",
    "            continue  # Exclude neighbors which are outside boundary\n",
    "        neighborNode = Node((rr, cc))\n",
    "        #neighborNode.parent = node\n",
    "        neighbors.append(neighborNode)\n",
    "\n",
    "    return neighbors"
   ]
  },
  {
   "cell_type": "code",
   "execution_count": 22,
   "metadata": {},
   "outputs": [],
   "source": [
    "def getShortPath(endNode):\n",
    "\n",
    "    path = []\n",
    "\n",
    "    tempNode = endNode\n",
    "\n",
    "    while tempNode is not None:  # Parent of start node is None\n",
    "        path.append(tempNode.pos)\n",
    "        tempNode = tempNode.parent\n",
    "    path.reverse()\n",
    "    return path # Output the list from Start to End Node"
   ]
  },
  {
   "cell_type": "code",
   "execution_count": 23,
   "metadata": {},
   "outputs": [],
   "source": [
    "def nodeInSet(node, inputSet):\n",
    "    \"\"\"Membership test: Returns True if the given node object is in the set\"\"\"\n",
    "    for tempNode in inputSet:\n",
    "        if (tempNode.pos == node.pos):\n",
    "            return True\n",
    "    return False"
   ]
  },
  {
   "cell_type": "code",
   "execution_count": 24,
   "metadata": {},
   "outputs": [],
   "source": [
    "startNode = Node((0, 0))\n",
    "endNode = Node((0, 9))"
   ]
  },
  {
   "cell_type": "code",
   "execution_count": 25,
   "metadata": {},
   "outputs": [],
   "source": [
    "frontier = set()\n",
    "visited = set()"
   ]
  },
  {
   "cell_type": "code",
   "execution_count": 26,
   "metadata": {},
   "outputs": [],
   "source": [
    "# Add the start node to frontier\n",
    "frontier.add(startNode)"
   ]
  },
  {
   "cell_type": "code",
   "execution_count": 27,
   "metadata": {},
   "outputs": [
    {
     "name": "stdout",
     "output_type": "stream",
     "text": [
      "Exit Found !\n",
      "Shortest distance to exit is  25\n",
      "Node positions in the shortest path are (Start -> End) [(0, 0), (0, 1), (0, 2), (0, 3), (1, 3), (2, 3), (3, 3), (4, 3), (5, 3), (6, 3), (7, 3), (8, 3), (8, 4), (8, 5), (7, 5), (6, 5), (5, 5), (4, 5), (4, 6), (3, 6), (3, 7), (2, 7), (2, 8), (1, 8), (0, 8), (0, 9)]\n"
     ]
    }
   ],
   "source": [
    "exitFound = False\n",
    "\n",
    "while frontier:  # Returns True if frontier is not empty\n",
    "\n",
    "    currNode = min(frontier, key=lambda x: x.f)\n",
    "\n",
    "    if currNode.pos == endNode.pos:\n",
    "        exitFound = True\n",
    "        print(\"Exit Found !\")\n",
    "        print(\"Shortest distance to exit is \", currNode.g)\n",
    "        print(\"Node positions in the shortest path are (Start -> End)\",\n",
    "              getShortPath(currNode))\n",
    "        break\n",
    "\n",
    "    # Find neighbors of the current node\n",
    "    neighbors = find_neighbors(currNode, len(maze)-1, len(maze[0])-1)\n",
    "\n",
    "    # Iterate through all neighbors and update the shortest distance for each neighbor node\n",
    "    for node in neighbors:\n",
    "        if (nodeInSet(node, visited)) or (maze[node.pos[0]][node.pos[1]] == 1):\n",
    "            continue\n",
    "        # Update the shortest distance if the new dist via parent node is smaller or is not in frontier\n",
    "        # New shortest distance(g) to node = shortest dist to parent node + edge length\n",
    "        newDistance = currNode.g + 1\n",
    "        if not (nodeInSet(node, frontier)) or (newDistance < node.g):\n",
    "            node.parent = currNode\n",
    "            node.g = newDistance\n",
    "            node.setHeuristic(endNode)\n",
    "            node.f = node.g + node.h\n",
    "            frontier.add(node)\n",
    "\n",
    "    # Add the current node in visited\n",
    "    visited.add(currNode)\n",
    "\n",
    "    # Remove the current node from frontier\n",
    "    frontier.remove(currNode)\n",
    "\n",
    "if not exitFound:\n",
    "    print(\"No Exit Found!\")"
   ]
  }
 ],
 "metadata": {
  "kernelspec": {
   "display_name": "Python_3_8_Main",
   "language": "python",
   "name": "python3"
  },
  "language_info": {
   "codemirror_mode": {
    "name": "ipython",
    "version": 3
   },
   "file_extension": ".py",
   "mimetype": "text/x-python",
   "name": "python",
   "nbconvert_exporter": "python",
   "pygments_lexer": "ipython3",
   "version": "3.8.5"
  },
  "orig_nbformat": 4,
  "vscode": {
   "interpreter": {
    "hash": "a1d44108cdedce71c81943693f3af7572c4f20963c37dc02223223bab9fb52a0"
   }
  }
 },
 "nbformat": 4,
 "nbformat_minor": 2
}
