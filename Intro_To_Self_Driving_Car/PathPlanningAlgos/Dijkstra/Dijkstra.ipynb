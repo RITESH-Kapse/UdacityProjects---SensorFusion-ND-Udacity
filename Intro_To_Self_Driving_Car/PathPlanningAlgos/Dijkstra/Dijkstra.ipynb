{
 "cells": [
  {
   "attachments": {},
   "cell_type": "markdown",
   "metadata": {},
   "source": [
    "The algorithm runs on the following [sample tree.](sampletree1.png)  \n",
    "'S' is start  \n",
    "'E' is exit  \n",
    "Nodes or vertices-> A,B,C etc  \n",
    "Edges -> S-A, A-B, D-E etc  \n",
    "The cost (here distance) for traversing between consecutive nodes is mentioned on the edges.\n",
    "\n",
    "The goal is to find the shortest path to travel from S to E"
   ]
  },
  {
   "cell_type": "code",
   "execution_count": 53,
   "metadata": {},
   "outputs": [],
   "source": [
    "import math"
   ]
  },
  {
   "cell_type": "code",
   "execution_count": 54,
   "metadata": {},
   "outputs": [],
   "source": [
    "# Sample Tree is represented as a dict of dict\n",
    "\n",
    "inputTree = {\n",
    "    'S': {'A': 3, 'C': 2, 'F': 6},\n",
    "    'A': {'S': 3, 'B': 6, 'C': 2, 'D': 1},\n",
    "    'B': {'A': 6, 'E': 1},\n",
    "    'C': {'S': 2, 'A': 2, 'D': 3},\n",
    "    'D': {'A': 1, 'C': 3, 'E': 4},\n",
    "    'E': {'B': 1, 'D': 4, 'F': 2},\n",
    "    'F': {'S': 6, 'E': 2}\n",
    "}\n",
    "startNode = 'S'\n",
    "exitNode = 'E'\n"
   ]
  },
  {
   "cell_type": "code",
   "execution_count": 55,
   "metadata": {},
   "outputs": [],
   "source": [
    "# Data structure of shortest distance from start to every node\n",
    "# Initialise each distance with inf (except start)\n",
    "\n",
    "inf_ = math.inf\n",
    "\n",
    "shortDist = {}\n",
    "\n",
    "for node in inputTree.keys():\n",
    "    if node == startNode:\n",
    "        shortDist[node] = 0\n",
    "    else:\n",
    "        shortDist[node] = inf_\n",
    "\n",
    "# Data structure containing shortest path from start to each node\n",
    "\n",
    "shortPath = {}\n",
    "\n",
    "for node in inputTree.keys():\n",
    "    if node == startNode:\n",
    "        shortPath[node] = ['S']\n",
    "    else:\n",
    "        shortPath[node] = []\n",
    "\n",
    "visited = set()  # Set of nodes (or cells) that are already visited\n"
   ]
  },
  {
   "cell_type": "code",
   "execution_count": 56,
   "metadata": {},
   "outputs": [],
   "source": [
    "def sortDict(shortDist):\n",
    "    \"\"\"Return a sorted dict with shortest distance at front\"\"\"\n",
    "\n",
    "    # sort the dictionary\n",
    "    sorted_list = sorted(shortDist.items(), key=lambda x: x[1])\n",
    "    return dict(sorted_list)\n"
   ]
  },
  {
   "cell_type": "code",
   "execution_count": 57,
   "metadata": {},
   "outputs": [
    {
     "name": "stdout",
     "output_type": "stream",
     "text": [
      "Exit Found !\n",
      "Shortest distance to exit is  8\n",
      "Nodes in the shortest path are ['S', 'A', 'D', 'E']\n"
     ]
    }
   ],
   "source": [
    "exitFound = False\n",
    "\n",
    "while shortDist:\n",
    "\n",
    "    # Sort the shortest distance dict\n",
    "    shortDist = sortDict(shortDist)\n",
    "\n",
    "    # Get the first node\n",
    "    currNode = list(shortDist.keys())[0]\n",
    "\n",
    "    # Exit the while loop if current node is Exit node\n",
    "    if currNode == exitNode:\n",
    "        exitFound = True\n",
    "        print(\"Exit Found !\")\n",
    "        print(\"Shortest distance to exit is \", shortDist[currNode])\n",
    "        print(\"Nodes in the shortest path are\", shortPath[currNode])\n",
    "        break\n",
    "\n",
    "    # Find neighbors of the current node\n",
    "    neighbors = inputTree[currNode]\n",
    "\n",
    "    # Iterate through all neighbors and update the shortest distance for each neighbor node\n",
    "    for node, edgeLen in neighbors.items():\n",
    "        if (node in visited):\n",
    "            continue\n",
    "        else:\n",
    "            # New shortest distance to node = shortest dist to parent node + edge length\n",
    "            newShortDist = shortDist[currNode] + edgeLen\n",
    "            # Only update the shortest distance if the new dist via parent node is smaller\n",
    "            if newShortDist < shortDist[node]:\n",
    "                shortDist[node] = newShortDist\n",
    "                # Remove old path &\n",
    "                # Update the new shortest path via the current parent node\n",
    "                shortPath[node] = []\n",
    "                for node1 in shortPath[currNode]:\n",
    "                    shortPath[node].append(node1)\n",
    "                shortPath[node].append(node)\n",
    "\n",
    "    # Add the current node in visited\n",
    "    visited.add(currNode)\n",
    "\n",
    "    # Remove the current node from frontier\n",
    "    del shortDist[currNode]\n",
    "\n",
    "if not exitFound:\n",
    "    print(\"No Exit Found!\")\n"
   ]
  }
 ],
 "metadata": {
  "kernelspec": {
   "display_name": "Python_3_8_Main",
   "language": "python",
   "name": "python3"
  },
  "language_info": {
   "codemirror_mode": {
    "name": "ipython",
    "version": 3
   },
   "file_extension": ".py",
   "mimetype": "text/x-python",
   "name": "python",
   "nbconvert_exporter": "python",
   "pygments_lexer": "ipython3",
   "version": "3.8.5"
  },
  "orig_nbformat": 4,
  "vscode": {
   "interpreter": {
    "hash": "a1d44108cdedce71c81943693f3af7572c4f20963c37dc02223223bab9fb52a0"
   }
  }
 },
 "nbformat": 4,
 "nbformat_minor": 2
}
