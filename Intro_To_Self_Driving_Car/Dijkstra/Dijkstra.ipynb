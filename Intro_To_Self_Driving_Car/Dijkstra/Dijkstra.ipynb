{
 "cells": [
  {
   "attachments": {},
   "cell_type": "markdown",
   "metadata": {},
   "source": [
    "The algorithm runs on the following [sample tree.](sampletree1.png)  \n",
    "'S' is start  \n",
    "'E' is exit  \n",
    "Nodes or vertices-> A,B,C etc  \n",
    "Edges -> S-A, A-B, D-E etc  \n",
    "The cost for traversing between consecutive nodes is mentioned on the edges.  "
   ]
  },
  {
   "cell_type": "code",
   "execution_count": 5,
   "metadata": {},
   "outputs": [],
   "source": [
    "# Graph is defined as a dictionary\n",
    "\n",
    "InputGraph = {\n",
    "    'S' : [('A',3), ('C',2), ('F',6)],\n",
    "    'A': [('S',3),('C',2),('D',1)]\n",
    "}\n",
    "\n",
    "\n"
   ]
  },
  {
   "cell_type": "code",
   "execution_count": null,
   "metadata": {},
   "outputs": [],
   "source": []
  }
 ],
 "metadata": {
  "kernelspec": {
   "display_name": "Python 3",
   "language": "python",
   "name": "python3"
  },
  "language_info": {
   "codemirror_mode": {
    "name": "ipython",
    "version": 3
   },
   "file_extension": ".py",
   "mimetype": "text/x-python",
   "name": "python",
   "nbconvert_exporter": "python",
   "pygments_lexer": "ipython3",
   "version": "3.9.13"
  },
  "orig_nbformat": 4,
  "vscode": {
   "interpreter": {
    "hash": "f5372dae26f6fd43c1c4e4c2fe8067b3228d163922101087ac95dbfc268c4934"
   }
  }
 },
 "nbformat": 4,
 "nbformat_minor": 2
}
