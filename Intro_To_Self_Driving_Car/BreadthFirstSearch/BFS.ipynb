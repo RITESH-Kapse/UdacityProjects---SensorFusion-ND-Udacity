{
 "cells": [
  {
   "attachments": {},
   "cell_type": "markdown",
   "metadata": {},
   "source": [
    "### Find shortest path through a 2-d maze using Breadth First Search (BFS)"
   ]
  },
  {
   "attachments": {},
   "cell_type": "markdown",
   "metadata": {},
   "source": [
    "#### Maze Rules\n",
    "Refer maze.txt\n",
    "* Start = 'S', Exit = 'E'\n",
    "* '.' = Valid cells for movement\n",
    "* '#' =  Obstacle or invalid cells for movement\n",
    "* Not allowed to go beyond the boundary of the matrix (assume wall around the area)\n",
    "* Only up, down , left or right movement allowed\n",
    "* Movememnt speed = one cell at a time"
   ]
  },
  {
   "cell_type": "code",
   "execution_count": 1,
   "metadata": {},
   "outputs": [],
   "source": [
    "from collections import deque"
   ]
  },
  {
   "attachments": {},
   "cell_type": "markdown",
   "metadata": {},
   "source": [
    "Define or import a maze"
   ]
  },
  {
   "cell_type": "code",
   "execution_count": 2,
   "metadata": {},
   "outputs": [],
   "source": [
    "# maze  = [ \n",
    "#     ['#','#','E','#','.'],\n",
    "#     ['.','.','.','#','#'],\n",
    "#     ['#','.','#','#','.'],\n",
    "#     ['#','.','.','.','S']\n",
    "# ]\n",
    "\n",
    "with open(\"maze.txt\") as f:\n",
    "    maze = []\n",
    "    for line in f:\n",
    "        maze.append([i for i in line.strip(\"\\n\")])"
   ]
  },
  {
   "cell_type": "code",
   "execution_count": 3,
   "metadata": {},
   "outputs": [],
   "source": [
    "def find_neighbors(node, nRows, nCols):\n",
    "\n",
    "    \"\"\"Return all the valid neighbors of a given node\"\"\"\n",
    "\n",
    "    neighbors = []\n",
    "    rowMov = [-1,1,0,0] # Allowed row movements\n",
    "    colMov = [0,0,-1,1] # Allowed column movements\n",
    "\n",
    "    # Itertae through the movements to find neighbors\n",
    "    for i,j in zip(rowMov,colMov):\n",
    "        rr = i + node[0]\n",
    "        cc = j + node[1]\n",
    "        if rr > nRows or cc > nCols or rr < 0 or cc < 0: continue # Exclude neighbors which are outside boundary\n",
    "        neighbors.append((rr, cc))\n",
    "\n",
    "    return neighbors"
   ]
  },
  {
   "cell_type": "code",
   "execution_count": 4,
   "metadata": {},
   "outputs": [],
   "source": [
    "visited = set() # Set of nodes (or cells) that are already visited\n",
    "frontier = deque() # A deque of nodes in the frontier"
   ]
  },
  {
   "cell_type": "code",
   "execution_count": 5,
   "metadata": {},
   "outputs": [],
   "source": [
    "startNode = ()\n",
    "# if start node is not given then find in given MAP\n",
    "if not startNode: # returns True if startNode is empty\n",
    "    for i, row in enumerate(maze):\n",
    "        for j, item in enumerate(row):\n",
    "            if item == 'S':\n",
    "                startNode = (i,j,0)\n",
    "\n",
    "frontier.append(startNode) # Add the start node to frontier"
   ]
  },
  {
   "cell_type": "code",
   "execution_count": 6,
   "metadata": {},
   "outputs": [
    {
     "name": "stdout",
     "output_type": "stream",
     "text": [
      "Exit Found ! Coordinates & shortest distance are  (0, 8, 25)\n"
     ]
    }
   ],
   "source": [
    "exitFound = False\n",
    "\n",
    "while frontier: # Returns True if frontier is not empty\n",
    "    \n",
    "    #print(frontier)\n",
    "\n",
    "    currentNode = frontier.popleft()\n",
    "\n",
    "    if maze[currentNode[0]][currentNode[1]] == 'E': # Exit the while loop if the current node is End node\n",
    "        exitFound = True\n",
    "        print(\"Exit Found ! Coordinates & shortest distance are \" + \" \" + str(currentNode))\n",
    "        break\n",
    "\n",
    "    neighbors = find_neighbors(currentNode, len(maze)-1, len(maze[0])-1)\n",
    "\n",
    "    for node in neighbors:\n",
    "        #print(node)\n",
    "        nodeVal = maze[node[0]][node[1]]\n",
    "        #print(nodeVal)\n",
    "        if (node in visited) or nodeVal == '#': \n",
    "            continue\n",
    "        else:\n",
    "            frontier.append((node[0],node[1],currentNode[2]+1)) # Add the node to frontier and increase distance to 1 unit\n",
    "\n",
    "    visited.add((currentNode[0],currentNode[1])) # add the current node to visited\n",
    "\n",
    "if not exitFound: print(\"No Exit Found!\")\n"
   ]
  }
 ],
 "metadata": {
  "kernelspec": {
   "display_name": "Python 3",
   "language": "python",
   "name": "python3"
  },
  "language_info": {
   "codemirror_mode": {
    "name": "ipython",
    "version": 3
   },
   "file_extension": ".py",
   "mimetype": "text/x-python",
   "name": "python",
   "nbconvert_exporter": "python",
   "pygments_lexer": "ipython3",
   "version": "3.10.4"
  },
  "orig_nbformat": 4,
  "vscode": {
   "interpreter": {
    "hash": "3ad933181bd8a04b432d3370b9dc3b0662ad032c4dfaa4e4f1596c548f763858"
   }
  }
 },
 "nbformat": 4,
 "nbformat_minor": 2
}
